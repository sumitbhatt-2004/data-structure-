{
  "nbformat": 4,
  "nbformat_minor": 0,
  "metadata": {
    "colab": {
      "provenance": []
    },
    "kernelspec": {
      "name": "python3",
      "display_name": "Python 3"
    },
    "language_info": {
      "name": "python"
    }
  },
  "cells": [
    {
      "cell_type": "markdown",
      "source": [
        "Question 1 : What are data structures, and why are they important?\n",
        "\n",
        "solution: Data structures are ways to organize and store data in a computer so that it can be accessed and modified efficiently. They are essential because they help us manage large amounts of data while performing operations quickly. Different data structures (like lists, tuples, dictionaries, and sets) have different efficiency in terms of memory usage and performance depending on the operations we need to perform like searching, inserting, or deleting data. Choosing the right data structure is critical for optimizing the performance of an application."
      ],
      "metadata": {
        "id": "tLbsGB4yh_9q"
      }
    },
    {
      "cell_type": "markdown",
      "source": [
        "Question 2 : Explain the difference between mutable and immutable data types with examples.\n",
        "\n",
        "solution :**Mutable** data types are those that can be changed or modified after they are created. For example, lists and dictionaries are mutable. You can add, remove, or change their elements.\n",
        "\n",
        "**Immutable** data types, on the other hand, cannot be changed once they are created. Examples include strings and tuples. If you try to change an immutable data type, you will create a new instance instead."
      ],
      "metadata": {
        "id": "3h15UbYojkGm"
      }
    },
    {
      "cell_type": "code",
      "source": [
        "list = [1,2,3,4]  # this is a example of mutable data which we can make changes\n",
        "list[2] =5\n",
        "print(list)"
      ],
      "metadata": {
        "colab": {
          "base_uri": "https://localhost:8080/"
        },
        "id": "_-OgTKJbjjoF",
        "outputId": "9ae2ec0e-c10b-4684-c4c0-dc988a86a35f"
      },
      "execution_count": null,
      "outputs": [
        {
          "output_type": "stream",
          "name": "stdout",
          "text": [
            "[1, 2, 5, 4]\n"
          ]
        }
      ]
    },
    {
      "cell_type": "markdown",
      "source": [
        "Question 3 :What are the main differences between lists and tuples in Python ?\n",
        "\n",
        "solution :\n",
        "\n",
        "**Mutability**: Lists are mutable, meaning you can change their elements after creation (add, remove or modify). Tuples are immutable; once you create a tuple, you cannot change its elements.\n",
        "\n",
        "**Syntax**: Lists are defined using square brackets `[]`, while tuples are defined using parentheses `()`.\n",
        "\n",
        "**Performance**: Tuples can be slightly faster than lists and use less memory because of their immutability.\n",
        "\n",
        "**Use Case**: Use lists for collections of items that may change, and tuples for fixed collections of items that should not change.\n",
        "\n",
        "\n"
      ],
      "metadata": {
        "id": "wQREF13D5wcS"
      }
    },
    {
      "cell_type": "markdown",
      "source": [
        "Question 4 : Describe how dictionaries store data.?\n",
        "\n",
        "solution: Dictionaries in Python store data in key-value pairs. Each key is unique, and it maps to a specific value.Dictionaries are implemented using hash tables, allowing for fast access to values when you know the key. This makes them highly efficient for lookup operations.\n",
        "\n"
      ],
      "metadata": {
        "id": "59LJvTlT7Vr8"
      }
    },
    {
      "cell_type": "code",
      "source": [
        "# example of dict format\n",
        "my_dict =  {'name': 'krishna' , 'age': 24}\n",
        "type (my_dict)\n"
      ],
      "metadata": {
        "colab": {
          "base_uri": "https://localhost:8080/"
        },
        "id": "ZZUjbzAL7CjH",
        "outputId": "52d3bb43-0bc4-496e-9e16-1d377f4d7e09"
      },
      "execution_count": null,
      "outputs": [
        {
          "output_type": "execute_result",
          "data": {
            "text/plain": [
              "dict"
            ]
          },
          "metadata": {},
          "execution_count": 5
        }
      ]
    },
    {
      "cell_type": "markdown",
      "source": [
        "Question : 5 Why might you use a set instead of a list in Python?\n",
        "\n",
        "solution: You might use a set instead of a list when you want to make sure that all elements are unique since sets automatically eliminate duplicate entries. Sets also provide efficient operations for membership tests and mathematical set operations (like unions and intersections)."
      ],
      "metadata": {
        "id": "izU0fsZu8TRq"
      }
    },
    {
      "cell_type": "code",
      "source": [
        "# for example # set is unique collection it will never repeat its iteam\n",
        "a = {1,2,4,4,5,6,7,8,8,\"bob\", \"bob\"}\n",
        "print(a)"
      ],
      "metadata": {
        "colab": {
          "base_uri": "https://localhost:8080/"
        },
        "id": "Glx7qzSM8SPl",
        "outputId": "3580a878-0c18-4118-edb9-99fd4eb97c09"
      },
      "execution_count": null,
      "outputs": [
        {
          "output_type": "stream",
          "name": "stdout",
          "text": [
            "{1, 2, 4, 5, 6, 7, 8, 'bob'}\n"
          ]
        }
      ]
    },
    {
      "cell_type": "markdown",
      "source": [
        "Question 6 : What is a string in Python, and how is it different from a list?\n",
        "\n",
        "solution : A string in Python is a sequence of characters used to store textual data. It is an immutable data type, meaning once you create a string, you cannot change its contents directly.\n",
        "\n",
        "The main differences between strings and lists are:\n",
        "\n",
        "\n",
        "\n",
        "*   **Data Type:** Strings are specifically for text while lists can hold multiple items of varying data types including numbers, strings, or even other lists.\n",
        "*   **Mutability**: Strings are immutable, whereas lists are mutable. Thus you can modify lists but not strings.\n",
        "\n"
      ],
      "metadata": {
        "id": "HuBdwhzs9o07"
      }
    },
    {
      "cell_type": "markdown",
      "source": [
        "Question 7: How do tuples ensure data integrity in Python?\n",
        "\n",
        "solution : Tuples ensure data integrity by being immutable, which means that once a tuple is created, its contents can’t be modified. This immutability prevents accidental changes to the data, making tuples a good choice for representing fixed collections of items where data integrity and consistency are important."
      ],
      "metadata": {
        "id": "KthCXKXO-r1u"
      }
    },
    {
      "cell_type": "markdown",
      "source": [
        "Question 8: What is a hash table, and how does it relate to dictionaries in Python?\n",
        "\n",
        "solution : A hash table is a data structure that implements an associative array, allowing you to associate keys with values. Python’s dictionaries are essentially implemented as hash tables. When you add items to a dictionary, Python computes a hash code for each key to determine where to store the corresponding value. This allows for highly efficient access times for lookups, insertions, and deletions."
      ],
      "metadata": {
        "id": "KXPFPGCh_SXE"
      }
    },
    {
      "cell_type": "markdown",
      "source": [
        "Question 9: Can lists contain different data types in Python?\n",
        "\n",
        "solution : Yes, lists in Python can contain elements of different data types. For instance, you can have a list that includes integers, strings, and even another list\n",
        "\n",
        "for example"
      ],
      "metadata": {
        "id": "pVedGdLM_k2P"
      }
    },
    {
      "cell_type": "code",
      "source": [
        "my_list = [1,3,5,[1,4,5],\"sting\",7+8j,4.5] # a list can contain different number of elemets like string, float, bool,etc\n",
        "type(my_list)"
      ],
      "metadata": {
        "colab": {
          "base_uri": "https://localhost:8080/"
        },
        "id": "MMtfTsOj8SIT",
        "outputId": "85cffe45-7964-4628-b107-a1e5a998b312"
      },
      "execution_count": null,
      "outputs": [
        {
          "output_type": "execute_result",
          "data": {
            "text/plain": [
              "list"
            ]
          },
          "metadata": {},
          "execution_count": 11
        }
      ]
    },
    {
      "cell_type": "markdown",
      "source": [
        "Question 10 : Explain why strings are immutable in Python.\n",
        "\n",
        "solution : Strings are immutable in Python for several reasons:\n",
        "\n",
        "**Performance**: Immutable strings can be more memory-efficient and allow Python to optimize memory usage.\n",
        "\n",
        "**Security**: Immutability helps prevent accidental changes to important string data, maintaining data integrity.\n",
        "\n",
        "**Hashing**: Strings can be used as keys in dictionaries because their value doesn't change—this increases the reliability of hash-based structures."
      ],
      "metadata": {
        "id": "8HPnI4XlAk4v"
      }
    },
    {
      "cell_type": "markdown",
      "source": [
        "Question 11: What advantages do dictionaries offer over lists for certain tasks?\n",
        "\n",
        "solutions: Dictionaries offer several advantages over lists, particularly in tasks requiring fast access to data:\n",
        "\n",
        "**Fast Access:** You can access values by their keys in constant time on average (O(1)).\n",
        "\n",
        "**Key-Value Pairs:** You can store relationships between two pieces of data more naturally, making data retrieval intuitive.\n",
        "\n",
        "**Flexible Structure:** Keys can be any immutable type, allowing for more complexity in data storage."
      ],
      "metadata": {
        "id": "Yurkl8D1BHty"
      }
    },
    {
      "cell_type": "markdown",
      "source": [
        "Question: Describe a scenario where using a tuple would be preferable over a list.\n",
        "\n",
        "solution : Using a tuple would be preferable in a scenario where you want to return multiple values from a function without allowing modifications."
      ],
      "metadata": {
        "id": "K1AXzmrlBzbw"
      }
    },
    {
      "cell_type": "code",
      "source": [
        "# for example :\n",
        "def get_coordinates():\n",
        "    return (10, 20)  # Using a tuple to return fixed coordinates\n",
        "\n",
        "coords = get_coordinates()\n"
      ],
      "metadata": {
        "id": "ABv1kZCSCKmj"
      },
      "execution_count": null,
      "outputs": []
    },
    {
      "cell_type": "code",
      "source": [
        "coords"
      ],
      "metadata": {
        "colab": {
          "base_uri": "https://localhost:8080/"
        },
        "id": "u1psaSxICT96",
        "outputId": "a14b9cf9-ce3d-4fe3-a19e-1ef1e3a5eb7b"
      },
      "execution_count": null,
      "outputs": [
        {
          "output_type": "execute_result",
          "data": {
            "text/plain": [
              "(10, 20)"
            ]
          },
          "metadata": {},
          "execution_count": 17
        }
      ]
    },
    {
      "cell_type": "markdown",
      "source": [
        "Question :How do sets handle duplicate values in Python?\n",
        "\n",
        "solution :Sets automatically remove duplicate values. When you create a set, if you attempt to add an element that already exists, the set will ignore it. For example:"
      ],
      "metadata": {
        "id": "YviXc2beCwOb"
      }
    },
    {
      "cell_type": "code",
      "source": [
        "set = {1,2,3,3,3,3,3,4,4,4,5,5,5,7,8,\"anjali\",\"anjali\"}\n",
        "print(set)"
      ],
      "metadata": {
        "colab": {
          "base_uri": "https://localhost:8080/"
        },
        "id": "QBjkJ32DC_CH",
        "outputId": "60ba3248-b105-443d-fa80-7d21a359df64"
      },
      "execution_count": null,
      "outputs": [
        {
          "output_type": "stream",
          "name": "stdout",
          "text": [
            "{1, 2, 3, 4, 5, 7, 8, 'anjali'}\n"
          ]
        }
      ]
    },
    {
      "cell_type": "markdown",
      "source": [
        "Question: How does the “in” keyword work differently for lists and dictionaries?\n",
        "\n",
        "solution: The `in` keyword checks for the presence of an element in both lists and dictionaries but does so differently:\n",
        "\n",
        "\n",
        "\n",
        "*   `In` a **list**, in checks if the element is present within the list elements.\n",
        "*   In a **dictionary**, `in` checks if a specified key exists in the dictionary.\n",
        "\n"
      ],
      "metadata": {
        "id": "6pAEk08xDSNX"
      }
    },
    {
      "cell_type": "code",
      "source": [
        "my_list = [1, 2, 3]\n",
        "print(2 in my_list)\n",
        "\n",
        "my_dict = {'a': 1, 'b': 2}\n",
        "print('a' in my_dict)\n"
      ],
      "metadata": {
        "colab": {
          "base_uri": "https://localhost:8080/"
        },
        "id": "w4Q5MCW7D1lT",
        "outputId": "aaed2f86-0a25-46b3-c55d-0a83ff27b8f2"
      },
      "execution_count": null,
      "outputs": [
        {
          "output_type": "stream",
          "name": "stdout",
          "text": [
            "True\n",
            "True\n"
          ]
        }
      ]
    },
    {
      "cell_type": "markdown",
      "source": [
        "Question: Can you modify the elements of a tuple? Explain why or why not.\n",
        "\n",
        "solution : No, you cannot modify elements of a tuple because tuples are immutable. When you try to change a tuple's content, it will raise a `TypeError`. This immutability is by design to ensure data integrity and consistency throughout the program.\n",
        "\n"
      ],
      "metadata": {
        "id": "caYI2sLZEBAv"
      }
    },
    {
      "cell_type": "markdown",
      "source": [
        "What is a nested dictionary, and give an example of its use case?\n",
        "\n",
        "solution : A nested dictionary is a dictionary where the values can themselves be dictionaries. This can be useful for storing structured data. for example :"
      ],
      "metadata": {
        "id": "pQajtnoHEg08"
      }
    },
    {
      "cell_type": "code",
      "source": [
        "students = {\"Aman\": {\"Math\": 90, \"Science\": 85},\"Bijay\": {\"Math\": 88, \"Science\": 92},\"yogesh\": {\"Math\":78, \"Science\": 66}}\n",
        "print(students)"
      ],
      "metadata": {
        "colab": {
          "base_uri": "https://localhost:8080/"
        },
        "id": "B1-xSULTEvz7",
        "outputId": "26e01d52-8ceb-41af-9188-89a4db8c5698"
      },
      "execution_count": null,
      "outputs": [
        {
          "output_type": "stream",
          "name": "stdout",
          "text": [
            "{'Aman': {'Math': 90, 'Science': 85}, 'Bijay': {'Math': 88, 'Science': 92}, 'yogesh': {'Math': 78, 'Science': 66}}\n"
          ]
        }
      ]
    },
    {
      "cell_type": "markdown",
      "source": [
        "Question :Describe the time complexity of accessing elements in a dictionary.\n",
        "\n",
        "solution : The time complexity for accessing elements in a dictionary is O(1) on average, which means it takes constant time to access a value using its key. This is due to the underlying hash table implementation that allows quick lookups. However, in rare scenarios (like many hash collisions), it could degrade to O(n), but this is generally unlikely with a good hash function."
      ],
      "metadata": {
        "id": "i8qPHCzsFgN4"
      }
    },
    {
      "cell_type": "markdown",
      "source": [
        "Question : In what situations are lists preferred over dictionaries?\n",
        "\n",
        "solution : Lists are preferred over dictionaries when:\n",
        "\n",
        "**Order Matters:** If the order of items is significant, use a list since dictionaries are unordered.\n",
        "\n",
        "**Sequential Access:** Lists are better for storing simple collections of items where you access elements by their position (like iterating through items).\n",
        "\n",
        "**Simplicity:** If you only need to keep track of simple data without needing key-value pairs, lists are straightforward and efficient."
      ],
      "metadata": {
        "id": "5E98rTr0FzxV"
      }
    },
    {
      "cell_type": "markdown",
      "source": [
        "Question : Why are dictionaries considered unordered, and how does that affect data retrieval?\n",
        "\n",
        "solution : Dictionaries are considered unordered because they do not maintain any particular order for their key-value pairs. This means that when you iterate over a dictionary, you may not get the items back in the order you inserted them.\n",
        "\n",
        "For data retrieval, this means you should retrieve values using their keys rather than relying on their position or order, which can be advantageous for fast lookups but might be a drawback when order matters."
      ],
      "metadata": {
        "id": "TLIE-3NpGN01"
      }
    },
    {
      "cell_type": "markdown",
      "source": [
        "Question : Explain the difference between a list and a dictionary in terms of data retrieval.\n",
        "\n",
        "solution : In a list, you retrieve elements by their index, which is their position in the collection. For example, `my_list[0] `retrieves the first element.\n",
        "\n",
        "In a dictionary, you retrieve elements by their key. For example, `my_dict[\"name\"]` retrieves the value associated with the key \"name.\"\n",
        "\n",
        "This key-based retrieval makes dictionaries especially useful for cases where you need quick access to data based on unique identifiers."
      ],
      "metadata": {
        "id": "_t__wWPxGZmf"
      }
    },
    {
      "cell_type": "code",
      "source": [],
      "metadata": {
        "id": "2ptZ2bn-HCEI"
      },
      "execution_count": null,
      "outputs": []
    },
    {
      "cell_type": "markdown",
      "source": [
        "**PRATICAL QUESRION:**"
      ],
      "metadata": {
        "id": "5fpnpKCPGyVm"
      }
    },
    {
      "cell_type": "markdown",
      "source": [
        "Question : 1 Write a code to create a string with your name and print it.\n",
        "\n",
        "solution :"
      ],
      "metadata": {
        "id": "15sYMfNsHR3M"
      }
    },
    {
      "cell_type": "code",
      "source": [
        "my_name = \"Sumit bhatt\"\n",
        "print(my_name)"
      ],
      "metadata": {
        "colab": {
          "base_uri": "https://localhost:8080/"
        },
        "id": "sybsZhDXaCDz",
        "outputId": "0258e280-944d-4e28-c9ed-c2bcacc5ef9d"
      },
      "execution_count": 1,
      "outputs": [
        {
          "output_type": "stream",
          "name": "stdout",
          "text": [
            "Sumit bhatt\n"
          ]
        }
      ]
    },
    {
      "cell_type": "markdown",
      "source": [
        "Question : Write a code to find the length of the string \"Hello World\".?\n",
        "\n",
        "solution :"
      ],
      "metadata": {
        "id": "6oXzbsUVHUE8"
      }
    },
    {
      "cell_type": "code",
      "source": [
        "name = \"Hello world\"\n",
        "print(len(name))"
      ],
      "metadata": {
        "colab": {
          "base_uri": "https://localhost:8080/"
        },
        "id": "znJ507xgaeXT",
        "outputId": "ee4dd443-c38f-4594-8919-e34c279d0e5a"
      },
      "execution_count": 3,
      "outputs": [
        {
          "output_type": "stream",
          "name": "stdout",
          "text": [
            "11\n"
          ]
        }
      ]
    },
    {
      "cell_type": "markdown",
      "source": [
        "Question : Write a code to slice the first 3 characters from the string \"Python Programming\".?\n",
        "\n",
        "solution:"
      ],
      "metadata": {
        "id": "_kcHhBBia3GD"
      }
    },
    {
      "cell_type": "code",
      "source": [
        "python_string = \"Python Programming\"\n",
        "sliced_string = python_string[:3]\n",
        "print(sliced_string)"
      ],
      "metadata": {
        "colab": {
          "base_uri": "https://localhost:8080/"
        },
        "id": "PEGCYMgDbBJo",
        "outputId": "87d3647c-d914-4d3d-d34b-9787bbfc231e"
      },
      "execution_count": 7,
      "outputs": [
        {
          "output_type": "stream",
          "name": "stdout",
          "text": [
            "Pyt\n"
          ]
        }
      ]
    },
    {
      "cell_type": "markdown",
      "source": [
        "Question: Write a code to convert the string \"hello\" to uppercase. ?\n",
        "\n",
        "solution :"
      ],
      "metadata": {
        "id": "3zLJpEbQbOFI"
      }
    },
    {
      "cell_type": "code",
      "source": [
        "lowercase_string = \"hello\"\n",
        "uppercase_string = lowercase_string.upper()\n",
        "print(uppercase_string)"
      ],
      "metadata": {
        "colab": {
          "base_uri": "https://localhost:8080/"
        },
        "id": "7lG0mcXObh3k",
        "outputId": "640f635e-92ce-4792-84b3-e98b971a3b38"
      },
      "execution_count": 6,
      "outputs": [
        {
          "output_type": "stream",
          "name": "stdout",
          "text": [
            "HELLO\n"
          ]
        }
      ]
    },
    {
      "cell_type": "markdown",
      "source": [
        "Qustion : Write a code to replace the word \"apple\" with \"orange\" in the string \"I like apple\"."
      ],
      "metadata": {
        "id": "-xplXlrRbpSb"
      }
    },
    {
      "cell_type": "code",
      "source": [
        "string = \"I like apple\"\n",
        "new_string = string.replace(\"apple\",\"orange\")\n",
        "print(new_string)"
      ],
      "metadata": {
        "colab": {
          "base_uri": "https://localhost:8080/"
        },
        "id": "5z1vPwxFbyXJ",
        "outputId": "2ba0fd9c-b360-4f29-d38d-96c0db66dcd9"
      },
      "execution_count": 8,
      "outputs": [
        {
          "output_type": "stream",
          "name": "stdout",
          "text": [
            "I like orange\n"
          ]
        }
      ]
    },
    {
      "cell_type": "markdown",
      "source": [
        "Question: Write a code to create a list with numbers 1 to 5 and print it.\n",
        "\n",
        "solution :"
      ],
      "metadata": {
        "id": "zH67aOBNcP2y"
      }
    },
    {
      "cell_type": "code",
      "source": [
        "my_list = [1,2,3,4,5]\n",
        "print(my_list)"
      ],
      "metadata": {
        "colab": {
          "base_uri": "https://localhost:8080/"
        },
        "id": "9FIf4tF3cb2Z",
        "outputId": "588dc62c-fbed-44aa-dab1-e4604a919886"
      },
      "execution_count": 10,
      "outputs": [
        {
          "output_type": "stream",
          "name": "stdout",
          "text": [
            "[1, 2, 3, 4, 5]\n"
          ]
        }
      ]
    },
    {
      "cell_type": "markdown",
      "source": [
        "Question : Write a code to append the number 10 to the list [1, 2, 3, 4].\n",
        "\n",
        "solution:"
      ],
      "metadata": {
        "id": "lKVD9M1NctUt"
      }
    },
    {
      "cell_type": "code",
      "source": [
        "list = [1,2,3,4]\n",
        "list.append(10)\n",
        "print(list)"
      ],
      "metadata": {
        "colab": {
          "base_uri": "https://localhost:8080/"
        },
        "id": "fs5T9VMzc5yh",
        "outputId": "5a615ee8-dcde-431e-b2da-a7b48531dc4e"
      },
      "execution_count": 11,
      "outputs": [
        {
          "output_type": "stream",
          "name": "stdout",
          "text": [
            "[1, 2, 3, 4, 10]\n"
          ]
        }
      ]
    },
    {
      "cell_type": "markdown",
      "source": [
        "Question: Write a code to remove the number 3 from the list [1, 2, 3, 4, 5].\n",
        "\n",
        "solution :"
      ],
      "metadata": {
        "id": "86NKwR-qdFHq"
      }
    },
    {
      "cell_type": "code",
      "source": [
        "list = [1,2,3,4,5]\n",
        "list.remove(3)\n",
        "print(list)"
      ],
      "metadata": {
        "colab": {
          "base_uri": "https://localhost:8080/"
        },
        "id": "8Q7yxKWidT_o",
        "outputId": "e86fa51d-d978-406d-d126-dbae48fa710f"
      },
      "execution_count": 12,
      "outputs": [
        {
          "output_type": "stream",
          "name": "stdout",
          "text": [
            "[1, 2, 4, 5]\n"
          ]
        }
      ]
    },
    {
      "cell_type": "markdown",
      "source": [
        "Question: Write a code to access the second element in the list ['a', 'b', 'c', 'd'].\n",
        "\n",
        "solution :"
      ],
      "metadata": {
        "id": "H8TTtb-idhMG"
      }
    },
    {
      "cell_type": "code",
      "source": [
        "char_list = ['a', 'b', 'c', 'd']\n",
        "second_element = char_list[1]\n",
        "print(second_element)"
      ],
      "metadata": {
        "colab": {
          "base_uri": "https://localhost:8080/"
        },
        "id": "g2CWiDnvdves",
        "outputId": "b3094428-7af1-4754-c361-0554f0756a81"
      },
      "execution_count": 13,
      "outputs": [
        {
          "output_type": "stream",
          "name": "stdout",
          "text": [
            "b\n"
          ]
        }
      ]
    },
    {
      "cell_type": "markdown",
      "source": [
        "Question : Write a code to reverse the list [10, 20, 30, 40, 50].\n",
        "\n",
        "solution :"
      ],
      "metadata": {
        "id": "xxijW6Vjdye_"
      }
    },
    {
      "cell_type": "code",
      "source": [
        "list = [10, 20, 30, 40, 50]\n",
        "list.reverse()\n",
        "print(list)"
      ],
      "metadata": {
        "colab": {
          "base_uri": "https://localhost:8080/"
        },
        "id": "3mHvWbo0d81Y",
        "outputId": "8437b70d-5431-4579-c1c8-05863b16699b"
      },
      "execution_count": 15,
      "outputs": [
        {
          "output_type": "stream",
          "name": "stdout",
          "text": [
            "[50, 40, 30, 20, 10]\n"
          ]
        }
      ]
    },
    {
      "cell_type": "markdown",
      "source": [
        "Question : Write a code to create a tuple with the elements 100, 200, 300 and print it.\n",
        "\n",
        "solution :"
      ],
      "metadata": {
        "id": "OQIU3KyceSxJ"
      }
    },
    {
      "cell_type": "code",
      "source": [
        "my_tuple = (100,200,300)\n",
        "print(my_tuple)"
      ],
      "metadata": {
        "colab": {
          "base_uri": "https://localhost:8080/"
        },
        "id": "vqhVw8nbec22",
        "outputId": "8440307b-87cb-464a-86fa-a29b75b3c434"
      },
      "execution_count": 16,
      "outputs": [
        {
          "output_type": "stream",
          "name": "stdout",
          "text": [
            "(100, 200, 300)\n"
          ]
        }
      ]
    },
    {
      "cell_type": "markdown",
      "source": [
        "Question: Write a code to access the second-to-last element of the tuple ('red', 'green', 'blue', 'yellow').\n",
        "\n",
        "solution:"
      ],
      "metadata": {
        "id": "5PTtiwDFeukh"
      }
    },
    {
      "cell_type": "code",
      "source": [
        "color_tuple = ('red', 'green', 'blue', 'yellow')\n",
        "second_to_last = color_tuple[-2]\n",
        "print(second_to_last)"
      ],
      "metadata": {
        "colab": {
          "base_uri": "https://localhost:8080/"
        },
        "id": "t2tEj4_ce8ZW",
        "outputId": "541a6b3c-f6ed-4f22-8e36-3d6a6b0d366c"
      },
      "execution_count": 17,
      "outputs": [
        {
          "output_type": "stream",
          "name": "stdout",
          "text": [
            "blue\n"
          ]
        }
      ]
    },
    {
      "cell_type": "markdown",
      "source": [
        "Qustion: Write a code to find the minimum number in the tuple (10, 20, 5, 15).\n",
        "\n",
        "solution :"
      ],
      "metadata": {
        "id": "LRXIvuq5e_WZ"
      }
    },
    {
      "cell_type": "code",
      "source": [
        "number_tuple = (10, 20, 5, 15)\n",
        "minimum_number = min(number_tuple)\n",
        "print(minimum_number)"
      ],
      "metadata": {
        "colab": {
          "base_uri": "https://localhost:8080/"
        },
        "id": "AQ42KVtYfKeA",
        "outputId": "c3bba83f-edab-48bb-fa4a-3bd9880379e2"
      },
      "execution_count": 18,
      "outputs": [
        {
          "output_type": "stream",
          "name": "stdout",
          "text": [
            "5\n"
          ]
        }
      ]
    },
    {
      "cell_type": "markdown",
      "source": [
        "Question: Write a code to find the index of the element \"cat\" in the tuple ('dog', 'cat', 'rabbit').\n",
        "\n",
        "solution :"
      ],
      "metadata": {
        "id": "exsAyekwfSwD"
      }
    },
    {
      "cell_type": "code",
      "source": [
        "animal_tuple = ('dog', 'cat', 'rabbit')\n",
        "cat_index = animal_tuple.index('cat')\n",
        "print(cat_index)"
      ],
      "metadata": {
        "colab": {
          "base_uri": "https://localhost:8080/"
        },
        "id": "wv2sN27ffbsW",
        "outputId": "34fbaa52-8cc7-467a-b63c-a3b4f0f1b0f2"
      },
      "execution_count": 19,
      "outputs": [
        {
          "output_type": "stream",
          "name": "stdout",
          "text": [
            "1\n"
          ]
        }
      ]
    },
    {
      "cell_type": "markdown",
      "source": [
        "Question: Write a code to create a tuple containing three different fruits and check if \"kiwi\" is in it.\n",
        "\n",
        "solution:"
      ],
      "metadata": {
        "id": "Q1d41VqDfpdE"
      }
    },
    {
      "cell_type": "code",
      "source": [
        "fruits_tuple = ('apple', 'banana', 'cherry')\n",
        "is_kiwi_present = 'kiwi' in fruits_tuple\n",
        "print(is_kiwi_present)"
      ],
      "metadata": {
        "colab": {
          "base_uri": "https://localhost:8080/"
        },
        "id": "Tj_mT3blfysi",
        "outputId": "0d99d7ed-13c1-4e1f-de01-dcbd9c1e646a"
      },
      "execution_count": 20,
      "outputs": [
        {
          "output_type": "stream",
          "name": "stdout",
          "text": [
            "False\n"
          ]
        }
      ]
    },
    {
      "cell_type": "markdown",
      "source": [
        "Question: Write a code to create a set with the elements 'a', 'b', 'c' and print it.\n",
        "\n",
        "solution :"
      ],
      "metadata": {
        "id": "ogD1NAL5f4-o"
      }
    },
    {
      "cell_type": "code",
      "source": [
        "my_set = {'a', 'b', 'c'}\n",
        "print(my_set)"
      ],
      "metadata": {
        "colab": {
          "base_uri": "https://localhost:8080/"
        },
        "id": "grs26xaygHyR",
        "outputId": "0e4f8a4f-55a6-4311-bc51-1d91ddcbe96c"
      },
      "execution_count": 21,
      "outputs": [
        {
          "output_type": "stream",
          "name": "stdout",
          "text": [
            "{'b', 'a', 'c'}\n"
          ]
        }
      ]
    },
    {
      "cell_type": "markdown",
      "source": [
        "Question : Write a code to clear all elements from the set {1, 2, 3, 4, 5}.\n",
        "\n",
        "solution :"
      ],
      "metadata": {
        "id": "McjY9IwkgQK2"
      }
    },
    {
      "cell_type": "code",
      "source": [
        "my_set = {1, 2, 3, 4, 5}\n",
        "my_set.clear()\n",
        "print(my_set)"
      ],
      "metadata": {
        "colab": {
          "base_uri": "https://localhost:8080/"
        },
        "id": "YxJojFb-gcp9",
        "outputId": "32430ae8-238c-418f-d022-9f9df9e74b7b"
      },
      "execution_count": 23,
      "outputs": [
        {
          "output_type": "stream",
          "name": "stdout",
          "text": [
            "set()\n"
          ]
        }
      ]
    },
    {
      "cell_type": "markdown",
      "source": [
        "Question: Write a code to remove the element 4 from the set {1, 2, 3, 4}.\n",
        "\n",
        "solution:"
      ],
      "metadata": {
        "id": "OBfcTRJmgo8P"
      }
    },
    {
      "cell_type": "code",
      "source": [
        "my_set = {1, 2, 3, 4}\n",
        "my_set.remove(4)\n",
        "print(my_set)"
      ],
      "metadata": {
        "colab": {
          "base_uri": "https://localhost:8080/"
        },
        "id": "uYscOKnJgxOC",
        "outputId": "633b4462-f248-4536-d497-9cb83f03f4a4"
      },
      "execution_count": 24,
      "outputs": [
        {
          "output_type": "stream",
          "name": "stdout",
          "text": [
            "{1, 2, 3}\n"
          ]
        }
      ]
    },
    {
      "cell_type": "markdown",
      "source": [
        "Question: Write a code to find the union of two sets {1, 2, 3} and {3, 4, 5}.\n",
        "\n",
        "solution :"
      ],
      "metadata": {
        "id": "oJ8e_1Szg6_q"
      }
    },
    {
      "cell_type": "code",
      "source": [
        "a = {1, 2, 3}\n",
        "b = {3, 4, 5}\n",
        "union_set = a | b\n",
        "print(union_set)"
      ],
      "metadata": {
        "colab": {
          "base_uri": "https://localhost:8080/"
        },
        "id": "ManywOqkhDes",
        "outputId": "9410b34e-680e-4dd3-8bd0-6d3f49c00551"
      },
      "execution_count": 25,
      "outputs": [
        {
          "output_type": "stream",
          "name": "stdout",
          "text": [
            "{1, 2, 3, 4, 5}\n"
          ]
        }
      ]
    },
    {
      "cell_type": "markdown",
      "source": [
        "Question: Write a code to find the intersection of two sets {1, 2, 3} and {2, 3, 4}.\n",
        "\n",
        "solution:"
      ],
      "metadata": {
        "id": "YBSYGoXAhPac"
      }
    },
    {
      "cell_type": "code",
      "source": [
        "intersection_set = a & b\n",
        "print(intersection_set)"
      ],
      "metadata": {
        "colab": {
          "base_uri": "https://localhost:8080/"
        },
        "id": "3SahGBKuhYS7",
        "outputId": "c7a51a3f-2450-4271-db7d-6ee73b26b945"
      },
      "execution_count": 26,
      "outputs": [
        {
          "output_type": "stream",
          "name": "stdout",
          "text": [
            "{3}\n"
          ]
        }
      ]
    },
    {
      "cell_type": "markdown",
      "source": [
        "Question: Write a code to create a dictionary with the keys \"name\", \"age\", and \"city\", and print it.\n",
        "\n",
        "solution"
      ],
      "metadata": {
        "id": "9gr8PF4chgBp"
      }
    },
    {
      "cell_type": "code",
      "source": [
        "my_dict = {\"name\": \"krishna\", \"age\": 20, \"city\": \"delhi\"}\n",
        "print(my_dict)"
      ],
      "metadata": {
        "colab": {
          "base_uri": "https://localhost:8080/"
        },
        "id": "xIWUaR0Xhtfx",
        "outputId": "7b533f26-5c95-4eb8-f773-da2b75bf55ae"
      },
      "execution_count": 28,
      "outputs": [
        {
          "output_type": "stream",
          "name": "stdout",
          "text": [
            "{'name': 'krishna', 'age': 20, 'city': 'delhi'}\n"
          ]
        }
      ]
    },
    {
      "cell_type": "markdown",
      "source": [
        "Question : Write a code to add a new key-value pair \"country\": \"USA\" to the dictionary {'name': 'John', 'age': 25}.\n",
        "\n",
        "solution:"
      ],
      "metadata": {
        "id": "UBHfRggEh6bU"
      }
    },
    {
      "cell_type": "code",
      "source": [
        "dict = {'name': 'John', 'age': 25}\n",
        "dict[\"country\"] = \"USA\"\n",
        "print(dict)"
      ],
      "metadata": {
        "colab": {
          "base_uri": "https://localhost:8080/"
        },
        "id": "Gy7rQ0rfh5yW",
        "outputId": "2f0f29d7-d1b5-416e-e71f-d538abb7f818"
      },
      "execution_count": 29,
      "outputs": [
        {
          "output_type": "stream",
          "name": "stdout",
          "text": [
            "{'name': 'John', 'age': 25, 'country': 'USA'}\n"
          ]
        }
      ]
    },
    {
      "cell_type": "markdown",
      "source": [
        "Question: Write a code to access the value associated with the key \"name\" in the dictionary {'name': 'Alice', 'age': 30}.\n",
        "\n",
        "solution."
      ],
      "metadata": {
        "id": "geBTudIUiMTn"
      }
    },
    {
      "cell_type": "code",
      "source": [
        "dict = {'name': 'Alice', 'age': 30}\n",
        "name_value = dict['name']\n",
        "print(name_value)\n"
      ],
      "metadata": {
        "colab": {
          "base_uri": "https://localhost:8080/"
        },
        "id": "76-tg1IRiX1L",
        "outputId": "146f5dad-4c17-471a-fa7d-93845c4c328b"
      },
      "execution_count": 30,
      "outputs": [
        {
          "output_type": "stream",
          "name": "stdout",
          "text": [
            "Alice\n"
          ]
        }
      ]
    },
    {
      "cell_type": "markdown",
      "source": [
        "Question: Write a code to remove the key \"age\" from the dictionary {'name': 'Bob', 'age': 22, 'city': 'New York'}.\n",
        "\n",
        "solution:"
      ],
      "metadata": {
        "id": "Sc5PlZj7if5H"
      }
    },
    {
      "cell_type": "code",
      "source": [
        "dict= {'name': 'Bob', 'age': 22, 'city': 'New York'}\n",
        "del dict['age']\n",
        "print(dict)"
      ],
      "metadata": {
        "colab": {
          "base_uri": "https://localhost:8080/"
        },
        "id": "gfUTD0cPifdG",
        "outputId": "b9327e9c-0b2d-44af-b579-2b6a0823416e"
      },
      "execution_count": 31,
      "outputs": [
        {
          "output_type": "stream",
          "name": "stdout",
          "text": [
            "{'name': 'Bob', 'city': 'New York'}\n"
          ]
        }
      ]
    },
    {
      "cell_type": "markdown",
      "source": [
        "Question: Write a code to check if the key \"city\" exists in the dictionary {'name': 'Alice', 'city': 'Paris'}.\n",
        "\n",
        "solution:"
      ],
      "metadata": {
        "id": "BHQu0Yyyi6Ba"
      }
    },
    {
      "cell_type": "code",
      "source": [
        "dict = {'name': 'Alice', 'city': 'Paris'}\n",
        "is_city_present = 'city' in dict\n",
        "print(is_city_present)\n"
      ],
      "metadata": {
        "colab": {
          "base_uri": "https://localhost:8080/"
        },
        "id": "eP8LnM4ui5rW",
        "outputId": "bbeff461-5d73-45a5-eb7d-e5d9c8492dd6"
      },
      "execution_count": 32,
      "outputs": [
        {
          "output_type": "stream",
          "name": "stdout",
          "text": [
            "True\n"
          ]
        }
      ]
    },
    {
      "cell_type": "markdown",
      "source": [
        "Question : Write a code to create a list, a tuple, and a dictionary, and print them all.\n",
        "\n",
        "solution:"
      ],
      "metadata": {
        "id": "JcwHqs9cjMrC"
      }
    },
    {
      "cell_type": "code",
      "source": [
        "mixed_list = [1, 2, 3]\n",
        "mixed_tuple = (4, 5, 6)\n",
        "mixed_dict = {'key1': 'value1', 'key2': 'value2'}\n",
        "print(mixed_list, mixed_tuple, mixed_dict)"
      ],
      "metadata": {
        "colab": {
          "base_uri": "https://localhost:8080/"
        },
        "id": "C6WgIntXjMQA",
        "outputId": "12c83437-3c30-4ac7-ee1d-3a7cefeda0d1"
      },
      "execution_count": 33,
      "outputs": [
        {
          "output_type": "stream",
          "name": "stdout",
          "text": [
            "[1, 2, 3] (4, 5, 6) {'key1': 'value1', 'key2': 'value2'}\n"
          ]
        }
      ]
    },
    {
      "cell_type": "markdown",
      "source": [
        "Question: Write a code to create a list of 5 random numbers between 1 and 100, sort it in ascending order, and print the result.\n",
        "\n",
        "solution :"
      ],
      "metadata": {
        "id": "dCG8usRajeW0"
      }
    },
    {
      "cell_type": "code",
      "source": [
        "import random\n",
        "random_numbers = random.sample(range(1, 101), 5)\n",
        "random_numbers.sort()\n",
        "print(random_numbers)\n"
      ],
      "metadata": {
        "colab": {
          "base_uri": "https://localhost:8080/"
        },
        "id": "M4-ehtjrjd-b",
        "outputId": "e781525d-e93b-4cf1-e179-535979e4bd62"
      },
      "execution_count": 34,
      "outputs": [
        {
          "output_type": "stream",
          "name": "stdout",
          "text": [
            "[16, 22, 56, 60, 89]\n"
          ]
        }
      ]
    },
    {
      "cell_type": "markdown",
      "source": [
        "Question : Write a code to create a list with strings and print the element at the third index.\n",
        "\n",
        "solution:"
      ],
      "metadata": {
        "id": "u9KNTbX4jsSq"
      }
    },
    {
      "cell_type": "code",
      "source": [
        "list = [\"apple\", \"banana\", \"cherry\", \"date\", \"elderberry\"]\n",
        "element_at_third_index = list[3]\n",
        "print(element_at_third_index)"
      ],
      "metadata": {
        "colab": {
          "base_uri": "https://localhost:8080/"
        },
        "id": "LP1XazQnjr4I",
        "outputId": "4bb2387b-9415-4b5a-d77b-5fea0bd5e24f"
      },
      "execution_count": 35,
      "outputs": [
        {
          "output_type": "stream",
          "name": "stdout",
          "text": [
            "date\n"
          ]
        }
      ]
    },
    {
      "cell_type": "markdown",
      "source": [
        "Question: Write a code to combine two dictionaries into one and print the result.\n",
        "\n",
        "solution:"
      ],
      "metadata": {
        "id": "NtWJne6lkQtp"
      }
    },
    {
      "cell_type": "code",
      "source": [
        "a= {'a': 1, 'b': 2}\n",
        "b = {'b': 3, 'c': 4}\n",
        "combined_dict = {**a, **b}\n",
        "print(combined_dict)"
      ],
      "metadata": {
        "colab": {
          "base_uri": "https://localhost:8080/"
        },
        "id": "5G37IXZ-kQQi",
        "outputId": "1038436a-b4e4-4b54-8b31-cf2b16aa1d2e"
      },
      "execution_count": 36,
      "outputs": [
        {
          "output_type": "stream",
          "name": "stdout",
          "text": [
            "{'a': 1, 'b': 3, 'c': 4}\n"
          ]
        }
      ]
    },
    {
      "cell_type": "markdown",
      "source": [
        "Question : Write a code to convert a list of strings into a set.?\n",
        "\n",
        "solution :"
      ],
      "metadata": {
        "id": "MXd6v3V7klY3"
      }
    },
    {
      "cell_type": "code",
      "source": [
        "string_list_for_set = [\"apple\", \"banana\", \"apple\", \"orange\"]\n",
        "string_set = set(string_list_for_set)\n",
        "print(string_set)"
      ],
      "metadata": {
        "colab": {
          "base_uri": "https://localhost:8080/"
        },
        "id": "sO7yE8-7kk9Y",
        "outputId": "f638fcf1-a6df-4ad9-e424-97d00ec54c0b"
      },
      "execution_count": 37,
      "outputs": [
        {
          "output_type": "stream",
          "name": "stdout",
          "text": [
            "{'apple', 'orange', 'banana'}\n"
          ]
        }
      ]
    }
  ]
}